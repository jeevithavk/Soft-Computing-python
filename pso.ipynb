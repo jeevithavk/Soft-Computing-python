{
  "nbformat": 4,
  "nbformat_minor": 0,
  "metadata": {
    "colab": {
      "name": "pso.ipynb",
      "provenance": [],
      "collapsed_sections": []
    },
    "kernelspec": {
      "name": "python3",
      "display_name": "Python 3"
    }
  },
  "cells": [
    {
      "cell_type": "code",
      "metadata": {
        "id": "hwJfz5wcD1k9",
        "colab_type": "code",
        "colab": {}
      },
      "source": [
        "import random\n",
        "import numpy as np "
      ],
      "execution_count": 14,
      "outputs": []
    },
    {
      "cell_type": "code",
      "metadata": {
        "id": "M9CU9sFnEEGr",
        "colab_type": "code",
        "colab": {
          "base_uri": "https://localhost:8080/",
          "height": 68
        },
        "outputId": "8a39da5f-ae28-49de-88a7-1c38269eb2a2"
      },
      "source": [
        "W = 0.5\n",
        "c1 = 0.8\n",
        "c2 = 0.9 \n",
        "\n",
        "n_iterations = int(input(\"Inform the number of iterations: \"))\n",
        "target_error = float(input(\"Inform the target error: \"))\n",
        "n_particles = int(input(\"Inform the number of particles: \"))"
      ],
      "execution_count": 15,
      "outputs": [
        {
          "output_type": "stream",
          "text": [
            "Inform the number of iterations: 50\n",
            "Inform the target error: 1e-6\n",
            "Inform the number of particles: 30\n"
          ],
          "name": "stdout"
        }
      ]
    },
    {
      "cell_type": "code",
      "metadata": {
        "id": "tA5uiK2QEUEB",
        "colab_type": "code",
        "colab": {}
      },
      "source": [
        ""
      ],
      "execution_count": null,
      "outputs": []
    },
    {
      "cell_type": "code",
      "metadata": {
        "id": "aWa4z0TMENWd",
        "colab_type": "code",
        "colab": {}
      },
      "source": [
        "class Particle():\n",
        "    def __init__(self):\n",
        "        self.position = np.array([(-1) ** (bool(random.getrandbits(1))) * random.random()*50, (-1)**(bool(random.getrandbits(1))) * random.random()*50])\n",
        "        self.pbest_position = self.position\n",
        "        self.pbest_value = float('inf')\n",
        "        self.velocity = np.array([0,0])\n",
        "\n",
        "    def __str__(self):\n",
        "        print(\"I am at \", self.position, \" meu pbest is \", self.pbest_position)\n",
        "    \n",
        "    def move(self):\n",
        "        self.position = self.position + self.velocity"
      ],
      "execution_count": 16,
      "outputs": []
    },
    {
      "cell_type": "code",
      "metadata": {
        "id": "r3RTUWwKEWFQ",
        "colab_type": "code",
        "colab": {}
      },
      "source": [
        "class Space():\n",
        "\n",
        "    def __init__(self, target, target_error, n_particles):\n",
        "        self.target = target\n",
        "        self.target_error = target_error\n",
        "        self.n_particles = n_particles\n",
        "        self.particles = []\n",
        "        self.gbest_value = float('inf')\n",
        "        self.gbest_position = np.array([random.random()*50, random.random()*50])\n",
        "\n",
        "    def print_particles(self):\n",
        "        for particle in self.particles:\n",
        "            particle.__str__()\n",
        "   \n",
        "    def fitness(self, particle):\n",
        "        return (2*particle.position[0]) - (5*particle.position[1])\n",
        "\n",
        "    def set_pbest(self):\n",
        "        for particle in self.particles:\n",
        "            fitness_cadidate = self.fitness(particle)\n",
        "            if(particle.pbest_value > fitness_cadidate):\n",
        "                particle.pbest_value = fitness_cadidate\n",
        "                particle.pbest_position = particle.position\n",
        "            \n",
        "\n",
        "    def set_gbest(self):\n",
        "        for particle in self.particles:\n",
        "            best_fitness_cadidate = self.fitness(particle)\n",
        "            if(self.gbest_value > best_fitness_cadidate):\n",
        "                self.gbest_value = best_fitness_cadidate\n",
        "                self.gbest_position = particle.position\n",
        "\n",
        "    def move_particles(self):\n",
        "        for particle in self.particles:\n",
        "            global W\n",
        "            new_velocity = (W*particle.velocity) + (c1*random.random()) * (particle.pbest_position - particle.position) + \\\n",
        "                            (random.random()*c2) * (self.gbest_position - particle.position)\n",
        "            particle.velocity = new_velocity\n",
        "            particle.move()"
      ],
      "execution_count": 17,
      "outputs": []
    },
    {
      "cell_type": "code",
      "metadata": {
        "id": "LmIYtbLEEdYG",
        "colab_type": "code",
        "colab": {
          "base_uri": "https://localhost:8080/",
          "height": 527
        },
        "outputId": "70f8fe6a-f893-4071-c63a-e38f61aa6e3c"
      },
      "source": [
        "search_space = Space(1, target_error, n_particles)\n",
        "particles_vector = [Particle() for _ in range(search_space.n_particles)]\n",
        "search_space.particles = particles_vector\n",
        "search_space.print_particles()"
      ],
      "execution_count": 19,
      "outputs": [
        {
          "output_type": "stream",
          "text": [
            "I am at  [ 19.78214779 -42.37591505]  meu pbest is  [ 19.78214779 -42.37591505]\n",
            "I am at  [ -5.06063057 -41.48156066]  meu pbest is  [ -5.06063057 -41.48156066]\n",
            "I am at  [44.1293505  -7.49129995]  meu pbest is  [44.1293505  -7.49129995]\n",
            "I am at  [  0.31592497 -41.52488854]  meu pbest is  [  0.31592497 -41.52488854]\n",
            "I am at  [14.35827489  3.87828428]  meu pbest is  [14.35827489  3.87828428]\n",
            "I am at  [ 24.82429982 -36.12763357]  meu pbest is  [ 24.82429982 -36.12763357]\n",
            "I am at  [-17.03792361  13.82686657]  meu pbest is  [-17.03792361  13.82686657]\n",
            "I am at  [-3.75093286 37.32464847]  meu pbest is  [-3.75093286 37.32464847]\n",
            "I am at  [-33.11419027   5.77415153]  meu pbest is  [-33.11419027   5.77415153]\n",
            "I am at  [ -4.32109396 -24.31432604]  meu pbest is  [ -4.32109396 -24.31432604]\n",
            "I am at  [ 24.28919818 -30.63453837]  meu pbest is  [ 24.28919818 -30.63453837]\n",
            "I am at  [-19.53889161 -16.19853503]  meu pbest is  [-19.53889161 -16.19853503]\n",
            "I am at  [-3.36256679 33.25899563]  meu pbest is  [-3.36256679 33.25899563]\n",
            "I am at  [ 16.27799625 -15.98641068]  meu pbest is  [ 16.27799625 -15.98641068]\n",
            "I am at  [48.12953897 22.50865925]  meu pbest is  [48.12953897 22.50865925]\n",
            "I am at  [  6.91596137 -27.27165953]  meu pbest is  [  6.91596137 -27.27165953]\n",
            "I am at  [-31.07425731 -42.87732057]  meu pbest is  [-31.07425731 -42.87732057]\n",
            "I am at  [ -8.20444184 -16.86317833]  meu pbest is  [ -8.20444184 -16.86317833]\n",
            "I am at  [-34.66325595  -7.14962224]  meu pbest is  [-34.66325595  -7.14962224]\n",
            "I am at  [-8.23542353 43.67344076]  meu pbest is  [-8.23542353 43.67344076]\n",
            "I am at  [-14.89655947 -29.54301438]  meu pbest is  [-14.89655947 -29.54301438]\n",
            "I am at  [39.45509989 -6.19075422]  meu pbest is  [39.45509989 -6.19075422]\n",
            "I am at  [-37.0224506   28.54514446]  meu pbest is  [-37.0224506   28.54514446]\n",
            "I am at  [-10.45380307 -30.69373501]  meu pbest is  [-10.45380307 -30.69373501]\n",
            "I am at  [-8.61916051 38.52064481]  meu pbest is  [-8.61916051 38.52064481]\n",
            "I am at  [-25.71186954 -34.71487953]  meu pbest is  [-25.71186954 -34.71487953]\n",
            "I am at  [ 7.67322375 41.14625219]  meu pbest is  [ 7.67322375 41.14625219]\n",
            "I am at  [-34.18811727 -29.32803969]  meu pbest is  [-34.18811727 -29.32803969]\n",
            "I am at  [  9.20973597 -46.87059504]  meu pbest is  [  9.20973597 -46.87059504]\n",
            "I am at  [ 42.20989664 -37.56763144]  meu pbest is  [ 42.20989664 -37.56763144]\n"
          ],
          "name": "stdout"
        }
      ]
    },
    {
      "cell_type": "code",
      "metadata": {
        "id": "MHPjt6QvFFNx",
        "colab_type": "code",
        "colab": {}
      },
      "source": [
        "iteration = 0\n",
        "while(iteration < n_iterations):\n",
        "    search_space.set_pbest()    \n",
        "    search_space.set_gbest()\n",
        "\n",
        "    if(abs(search_space.gbest_value - search_space.target) <= search_space.target_error):\n",
        "        break\n",
        "\n",
        "    search_space.move_particles()\n",
        "    iteration += 1"
      ],
      "execution_count": 20,
      "outputs": []
    },
    {
      "cell_type": "code",
      "metadata": {
        "id": "Q_7Rl0hqFOXl",
        "colab_type": "code",
        "colab": {
          "base_uri": "https://localhost:8080/",
          "height": 34
        },
        "outputId": "6fed751b-2a63-4e1f-b5b5-fa2384979f9e"
      },
      "source": [
        "print(\"The best solution is: \", search_space.gbest_position, \" in n_iterations: \", iteration)"
      ],
      "execution_count": 21,
      "outputs": [
        {
          "output_type": "stream",
          "text": [
            "The best solution is:  [-123.31657949  456.10783323]  in n_iterations:  50\n"
          ],
          "name": "stdout"
        }
      ]
    }
  ]
}