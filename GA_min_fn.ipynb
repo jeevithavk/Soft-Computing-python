{
  "nbformat": 4,
  "nbformat_minor": 0,
  "metadata": {
    "colab": {
      "name": "GA_min_fn.ipynb",
      "provenance": [],
      "collapsed_sections": []
    },
    "kernelspec": {
      "name": "python3",
      "display_name": "Python 3"
    }
  },
  "cells": [
    {
      "cell_type": "code",
      "metadata": {
        "id": "nGz76v8QgLyC",
        "colab_type": "code",
        "colab": {
          "base_uri": "https://localhost:8080/",
          "height": 68
        },
        "outputId": "61602e0d-5eb0-468b-f314-b7fdb0615ed2"
      },
      "source": [
        "!pip install geneticalgorithm"
      ],
      "execution_count": 7,
      "outputs": [
        {
          "output_type": "stream",
          "text": [
            "Requirement already satisfied: geneticalgorithm in /usr/local/lib/python3.6/dist-packages (1.0.1)\n",
            "Requirement already satisfied: func-timeout in /usr/local/lib/python3.6/dist-packages (from geneticalgorithm) (4.3.5)\n",
            "Requirement already satisfied: numpy in /usr/local/lib/python3.6/dist-packages (from geneticalgorithm) (1.18.5)\n"
          ],
          "name": "stdout"
        }
      ]
    },
    {
      "cell_type": "code",
      "metadata": {
        "id": "FSFNE3YNgWD_",
        "colab_type": "code",
        "colab": {}
      },
      "source": [
        "import numpy as np\n",
        "from geneticalgorithm import geneticalgorithm as ga\n"
      ],
      "execution_count": 8,
      "outputs": []
    },
    {
      "cell_type": "code",
      "metadata": {
        "id": "wZYLIsY8gpiw",
        "colab_type": "code",
        "colab": {}
      },
      "source": [
        "def f(X):\n",
        "  if X[1]>0 and X[2]>0 :\n",
        "    return ((2*X[1]) - (5*X[2]))\n",
        "    "
      ],
      "execution_count": 30,
      "outputs": []
    },
    {
      "cell_type": "code",
      "metadata": {
        "id": "skphHGXamMiq",
        "colab_type": "code",
        "colab": {}
      },
      "source": [
        "varbound=np.array([[1,10]]*3)"
      ],
      "execution_count": 32,
      "outputs": []
    },
    {
      "cell_type": "code",
      "metadata": {
        "id": "8ua17CGeoXmw",
        "colab_type": "code",
        "colab": {
          "base_uri": "https://localhost:8080/",
          "height": 380
        },
        "outputId": "7839201f-be99-43eb-9944-666317ef8503"
      },
      "source": [
        "model=ga(function=f,dimension=3,variable_type='real',variable_boundaries=varbound)\n",
        "\n",
        "model.run()"
      ],
      "execution_count": 33,
      "outputs": [
        {
          "output_type": "stream",
          "text": [
            " The best solution found:\n",
            " [3.8995484  1.00039388 9.9992622 ]\n",
            "\n",
            " Objective function:\n",
            " -47.99552321471222\n"
          ],
          "name": "stdout"
        },
        {
          "output_type": "display_data",
          "data": {
            "image/png": "[encoded data removed]",
            "text/plain": [
              "<Figure size 432x288 with 1 Axes>"
            ]
          },
          "metadata": {
            "tags": [],
            "needs_background": "light"
          }
        }
      ]
    }
  ]
}